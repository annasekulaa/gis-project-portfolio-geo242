{
  "nbformat": 4,
  "nbformat_minor": 0,
  "metadata": {
    "colab": {
      "provenance": [],
      "include_colab_link": true
    },
    "kernelspec": {
      "name": "python3",
      "display_name": "Python 3"
    },
    "language_info": {
      "name": "python"
    }
  },
  "cells": [
    {
      "cell_type": "markdown",
      "metadata": {
        "id": "view-in-github",
        "colab_type": "text"
      },
      "source": [
        "<a href=\"https://colab.research.google.com/github/annasekulaa/gis-project-portfolio-geo242/blob/main/georefrencing.ipynb\" target=\"_parent\"><img src=\"https://colab.research.google.com/assets/colab-badge.svg\" alt=\"Open In Colab\"/></a>"
      ]
    },
    {
      "cell_type": "markdown",
      "source": [
        "## **GEO 242A Week 4 Assignment: Georeferencing**"
      ],
      "metadata": {
        "id": "C0ymCPR5aSHN"
      }
    },
    {
      "cell_type": "markdown",
      "source": [
        "🚀 Created by [Your Name]\n",
        "\n",
        "[mm/dd/yyyy]"
      ],
      "metadata": {
        "id": "Pt_OREXFPvkr"
      }
    },
    {
      "cell_type": "markdown",
      "source": [
        "### **0. Get ready to start**\n",
        "\n",
        "- Use **`File\\Save a copy in Drive`** to make a copy of this notebook in my own Google Drive\n",
        "- By default, this notebooks will be saved to a new folder called **`Colab`** under root directory of my Google Drive\n",
        "\n",
        "---"
      ],
      "metadata": {
        "id": "v84Fkx0LHARM"
      }
    },
    {
      "cell_type": "markdown",
      "source": [
        "### **1. Overview**\n",
        "\n",
        "- In this assignment, we will use georeference to assign a historical map of our campus in the 1960s with correct map coordinates so that it can be ovelaid on a basemap showing the current landscape of our campus\n",
        "- By comparing the historical map and the basemap, we will be able to identify the changes happened on and near our campus during the the past several decades\n",
        "\n",
        "![MU map](https://spec.lib.miamioh.edu/revisitingoxford/files/original/954b7bea7110f58726dbfd1137f5aec8.jpg)\n",
        "\n",
        "*A historical map of Miami University Oxford campus back in 1960s*\n",
        "\n",
        "---"
      ],
      "metadata": {
        "id": "WVs4J1jQbESU"
      }
    },
    {
      "cell_type": "markdown",
      "source": [
        "### **2. Install MapTiler Free Version for Georeferencing**\n",
        "\n",
        "- Download and install MapTiler Engine **Free Version** from [this link](https://www.maptiler.com/engine/pricing/)\n",
        "  - **STOP and Read if you are a Mac user**\n",
        "    - make sure you go to the **Security and Privacy** under **System Settings** to **\"Always Allow\"** the launch of MapTiler Engine when you are trying to launch this application the first time after installation\n",
        "- Download the historical map [from this link](https://spec.lib.miamioh.edu/revisitingoxford/items/show/40)\n",
        "- Copy this map to a folder created for this assignment to stay organized\n",
        "\n",
        "---\n"
      ],
      "metadata": {
        "id": "i4RTLellbUh7"
      }
    },
    {
      "cell_type": "markdown",
      "source": [
        "### **3. Learn about Steps in Georeferencing**\n",
        "\n",
        "- Watch [this video](https://youtu.be/bTlv6u5i2Rc?feature=shared) to learn how to georeference a map in MapTiler\n",
        "  - If needed, refere to [this document](https://documentation.maptiler.com/hc/en-us/articles/360020807357-How-to-georeference-your-raster-data) for detailed steps and screenshots\n",
        "- Start selecting ground control points (GCPs) and try to minimize the Root Mean Squared Error (RMSE) of the georeferenced map\n",
        "- Rules of selecting GCPs\n",
        "  - Select a fixed object visible in both the image to be georeferenced and the basemap, for example\n",
        "    - Street/block corners\n",
        "    - Building corners (be aware of building shape change across years)\n",
        "    - Street intersections\n",
        "  - Try to spread the GCPs as evenly distributed across the entire map as possible\n",
        "    - **DO NOT** select your first three GCPs along the same linear structure\n",
        "\n",
        "---"
      ],
      "metadata": {
        "id": "kkgukjDcXsqC"
      }
    },
    {
      "cell_type": "markdown",
      "source": [
        "### **4. Reflection Questions for the Georeferencing Process**\n",
        "\n",
        "- **Which locations did you choose for the first three control points, and why did you choose them?**\n",
        "\n",
        "| GCP      | Location  | Reason of Selection |\n",
        "| --------------| ----------- | ----------- |\n",
        "| GCP 1     | Kern and Chestnut  | Easily findable  |\n",
        "| GCP 2     | Where Church Street turns into 72  | Other side of oxford  |\n",
        "| GCP 2     | Corso road begining  | Wanted to include north campus  |\n",
        "\n",
        "\n",
        "- **Which point has the highest error term, and what is that error value? Insert a screenshot of your coordinates table below?**\n",
        "The highest error came from point four, which said it had an error value of 6.33.\n",
        "\n",
        "  - https://drive.google.com/file/d/1YlvJ_9lw7So2weZJ94lKM0EEMHm2iq2M/view?usp=sharing\n",
        "\n",
        "\n",
        "\n",
        "  - **Obtain a renderable link**\n",
        "\n",
        "    - The default link from Google Drive for this picture file cannot be directly used in Notebook to show the picture correctly\n",
        "    - Make some changes to the default sharable link:\n",
        "      - Deleted **`/view?usp=sharing`** at the end of the link\n",
        "      - Replaced **`/file/d/`** with **`/uc?export=view&id=`**\n",
        "    - Below is a renderable link to insert a picture in Google Colab notebook\n",
        "\n",
        "  ```markdown\n",
        "  ![table](https://drive.google.com/uc?export=view&id=1YlvJ_9lw7So2weZJ94lKM0EEMHm2iq2M)\n",
        "  ```\n",
        "\n",
        "   ![table](https://drive.google.com/uc?export=view&id=1YlvJ_9lw7So2weZJ94lKM0EEMHm2iq2M)\n",
        "\n",
        "\n",
        "- **What are the final error values for each of your seven (or more) control points?**\n",
        "\n",
        "My final error values are 0.40 to 6.33, with my most accurate being the last two points. As I went along my points only became more and more accurate. They were 5.92, 4.21, 4.56, 6.33, 3.79, 0.91 and 0.40.\n",
        "---"
      ],
      "metadata": {
        "id": "v1SEZ21gJy8G"
      }
    },
    {
      "cell_type": "markdown",
      "source": [
        "### **5. Export the georeferenced map**\n",
        "\n",
        "- Generate an output from MapTiler once you are done with georeferencing and are satisfied with the overall error\n",
        "  - Use **`GeoPackage`** as the **output format**\n",
        "\n",
        "<img src=\"https://documentation.maptiler.com/hc/article_attachments/27731832916625\" alt=\"Latitude lines\" width=\"70%\">\n",
        "\n",
        "  - You will get an output file with a file suffix of **`.gpkg`** like below\n",
        "\n",
        "![gpkg](https://documentation.maptiler.com/hc/article_attachments/4412991557905)"
      ],
      "metadata": {
        "id": "kGaRJWEHMqMr"
      }
    },
    {
      "cell_type": "markdown",
      "source": [
        "### **6. Overlay Georeferenced Map on a Basemap**\n",
        "\n",
        "- Open QGIS and load the **`.gpkg`** file you just saved\n",
        "  - Follow directions in **QGIS Document [Section 2.3.3](https://docs.qgis.org/3.34/en/docs/training_manual/basic_map/preparation.html)** to load the GeoPackage file you just saved\n",
        "- Open **`HCMGIS`** menu and select a satellite basemap to be added to your QGIS Project\n",
        "  - If you attended our 9/16 class or review slides of this class meeting, you should be able to install this QGIS PlugIn to QGIS\n",
        "- Re-organize the layers and make sure the georeferenced historical map is on top\n",
        "- Right click the historical map layer and open **`Layer Properties`**\n",
        "- Click **`Transparency`** tab and adjust the transparency of this layer to 60%\n",
        "- Take a screenshot of the entire map overlaid on top of base map and insert the map down below\n",
        "    - Upload the screenshot picture to your Google Drive folder and change the access to **Anyone with link can view**\n",
        "    - Make some changes to the default shareable link:\n",
        "      - Deleted **`/view?usp=sharing`** at the end of the link\n",
        "      - Replaced **`/file/d/`** with **`/uc?export=view&id=`**\n",
        "    - Below is a link we can use to insert a picture in Google Colab notebook\n",
        "\n",
        "  ```markdown\n",
        "  https://drive.google.com/uc?export=view&id=10qPms2yX1rjYstKh_KhM5s9mNbOHcRt6\n",
        "  ```\n",
        "\n",
        "  - ![image](https://drive.google.com/uc?export=view&id=10qPms2yX1rjYstKh_KhM5s9mNbOHcRt6)\n"
      ],
      "metadata": {
        "id": "iYippRTePyQK"
      }
    },
    {
      "cell_type": "markdown",
      "source": [
        "### **7. Identify Changes**\n",
        "\n",
        "- What are the three most prominent differences you have observed by comparing the current satellite image of our campus and a historical map in 1960s?\n",
        "    -  The residental development that has occured on the western part of oxford\n",
        "    -   Northern Campus's athletic building being built\n",
        "    -   The changes of road names\n",
        "\n",
        "\n",
        "\n"
      ],
      "metadata": {
        "id": "-uqD_UrrTTKI"
      }
    },
    {
      "cell_type": "markdown",
      "source": [
        "### **Reference**\n",
        "\n",
        "- [Markdown cheat sheet](https://www.markdownguide.org/cheat-sheet/)\n",
        "- [Video on how to overlay an image on a map](https://www.google.com/url?q=https%3A%2F%2Fyoutu.be%2FbTlv6u5i2Rc%3Ffeature%3Dshared)\n",
        "- [Tutorial on how to overlay an image on a map](https://www.google.com/url?q=https%3A%2F%2Fdocumentation.maptiler.com%2Fhc%2Fen-us%2Farticles%2F360020807357-How-to-georeference-your-raster-data)"
      ],
      "metadata": {
        "id": "fvMbEX89YLeY"
      }
    }
  ]
}